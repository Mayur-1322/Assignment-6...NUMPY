{
  "nbformat": 4,
  "nbformat_minor": 0,
  "metadata": {
    "colab": {
      "provenance": []
    },
    "kernelspec": {
      "name": "python3",
      "display_name": "Python 3"
    },
    "language_info": {
      "name": "python"
    }
  },
  "cells": [
    {
      "cell_type": "markdown",
      "source": [
        "Assignment no 06 ( Data toolkit)\n",
        "\n",
        " NUMPY\n",
        "\n",
        "(Theoretical Questions:-"
      ],
      "metadata": {
        "id": "fkyjFDPSkKfJ"
      }
    },
    {
      "cell_type": "markdown",
      "source": [
        "1. Explain the purpose and advantages of NumPy in scientific computing and data analysis. How does it\n",
        "enhance Python's capabilities for numerical operations?\n",
        "\n",
        "**Purpose of NumPy in Scientific Computing and Data Analysis**:\n",
        "NumPy (Numerical Python) is a fundamental package for scientific computing and data analysis in Python. Its primary purpose is to enable efficient numerical operations on large, multi-dimensional arrays and matrices. NumPy provides tools for performing mathematical, logical, and statistical operations on arrays, offering significant performance improvements over standard Python data structures like lists. This makes it invaluable for tasks such as numerical analysis, data processing, and machine learning.\n",
        "\n",
        "**Advantages of NumPy:**\n",
        "Efficient Memory Usage: NumPy arrays (ndarrays) use less memory compared to Python lists. They store data in contiguous blocks of memory, which enhances performance, especially for large datasets.\n",
        "\n",
        "Vectorized Operations: NumPy supports vectorized operations, allowing mathematical computations to be performed on entire arrays without the need for explicit loops. This leads to much faster execution times compared to traditional Python loops.\n",
        "\n",
        "Multi-dimensional Arrays: NumPy provides support for n-dimensional arrays, which can be used for handling complex data structures like matrices and tensors. This is useful in areas like image processing and machine learning.\n",
        "\n",
        "Broad Range of Functions: NumPy includes a comprehensive set of mathematical functions (e.g., trigonometric, algebraic, statistical) that operate on arrays, making it suitable for complex numerical computations.\n",
        "\n",
        "**How NumPy Enhances Python’s Numerical Capabilities:**\n",
        "Faster Computation: NumPy uses optimized C code under the hood, which allows for faster execution of numerical computations than using native Python loops.\n",
        "\n",
        "Advanced Indexing and Slicing: It allows for advanced array indexing, slicing, and reshaping, which makes data manipulation more intuitive and efficient.\n",
        "\n"
      ],
      "metadata": {
        "id": "q5Nw3bCmkrZm"
      }
    },
    {
      "cell_type": "markdown",
      "source": [
        "2. Compare and contrast np.mean() and np.average() functions in NumPy. When would you use one over the\n",
        "other?\n",
        "\n",
        "1. np.mean()\n",
        "Definition: np.mean() calculates the arithmetic mean (simple average) of the elements in an array along the specified axis or of all elements if no axis is provided.\n",
        "Usage:\n",
        "The arithmetic mean is calculated by summing all the values in the array and dividing by the total number of elements.\n",
        "It treats all elements equally and doesn’t consider weights.\n",
        "\n",
        "When to Use: Use np.mean() when you want to calculate a simple, unweighted average of an array’s values. It is straightforward and quick when weights are not involved.\n",
        "\n",
        "2. np.average()\n",
        "Definition: np.average() computes the weighted average of the elements in an array. You can optionally provide weights to influence the contribution of each element to the average.\n",
        "Usage:\n",
        "If weights are provided, the function calculates a weighted average, where each element in the array contributes to the mean according to its corresponding weight.\n",
        "If no weights are provided, np.average() behaves similarly to np.mean() and computes the simple arithmetic mean.\n",
        "\n",
        "**When to Use**: Use np.average() when you need to calculate a weighted mean, where certain elements should have a larger or smaller influence on the average. If no weights are provided, it can still be used as a substitute for np.mean()."
      ],
      "metadata": {
        "id": "SWKVc2NwlMKQ"
      }
    },
    {
      "cell_type": "markdown",
      "source": [
        "3. Describe the methods for reversing a NumPy array along different axes. Provide examples for 1D and 2D\n",
        "arrays.\n",
        "\n",
        "Reversing a NumPy array along different axes can be useful in many scenarios, such as manipulating data or performing operations where order matters. NumPy offers several ways to reverse arrays, and the method you use depends on the dimensionality of the array (1D, 2D, etc.) and which axis you want to reverse.\n",
        "\n",
        "1. Reversing a 1D Array\n",
        "For a 1D array, reversing the order of elements is straightforward. You can use slicing or the np.flip() function.\n",
        "\n",
        "Method 1: Slicing ([::-1])\n",
        "This is the most common and efficient way to reverse a 1D array.\n",
        "Syntax: array[::-1]\n"
      ],
      "metadata": {
        "id": "lhKdcBhLlslG"
      }
    },
    {
      "cell_type": "code",
      "source": [
        "import numpy as np\n",
        "\n",
        "# 1D array\n",
        "arr_1d = np.array([1, 2, 3, 4, 5])\n",
        "\n",
        "# Reverse using slicing\n",
        "reversed_arr = arr_1d[::-1]\n"
      ],
      "metadata": {
        "id": "xswg58-FmGXt"
      },
      "execution_count": 3,
      "outputs": []
    },
    {
      "cell_type": "markdown",
      "source": [
        "2. Reversing a 2D Array\n",
        "For a 2D array (matrix), you can reverse it along different axes: rows, columns, or both.\n",
        "\n",
        "Method 1: Slicing ([::-1, ::-1])\n",
        "You can reverse rows, columns, or both using slicing.\n",
        "Syntax:\n",
        "Reverse rows: array[::-1, :]\n",
        "Reverse columns: array[:, ::-1]\n",
        "Reverse both: array[::-1, ::-1]"
      ],
      "metadata": {
        "id": "tuaDjsr_mMDG"
      }
    },
    {
      "cell_type": "code",
      "source": [
        "# 2D array (matrix)\n",
        "arr_2d = np.array([[1, 2, 3],\n",
        "                   [4, 5, 6],\n",
        "                   [7, 8, 9]])\n",
        "\n",
        "# Reverse row\n",
        "reversed_rows = arr_2d[::-1, :]\n",
        "\n",
        "# Reverse columns\n",
        "reversed_cols = arr_2d[:, ::-1]\n",
        "\n",
        "# Reverse both rows and columns\n",
        "reversed_both = arr_2d[::-1, ::-1]\n"
      ],
      "metadata": {
        "id": "iQ4GWkiYmOrP"
      },
      "execution_count": 2,
      "outputs": []
    },
    {
      "cell_type": "markdown",
      "source": [
        "4. How can you determine the data type of elements in a NumPy array? Discuss the importance of data types\n",
        "in memory management and performance.\n",
        "\n",
        "\n",
        "Determining the Data Type of Elements in a NumPy Array\n",
        "In NumPy, you can easily determine the data type of elements in an array using the dtype attribute. This attribute provides information about the type of data stored in the array (e.g., integers, floats, strings, etc.). Here's how you can determine the data type:\n",
        "\n",
        "Importance of Data Types in NumPy for Memory Management and Performance\n",
        "Data types play a critical role in memory management and performance in NumPy. Choosing the correct data type allows you to optimize both memory usage and computational efficiency.\n",
        "\n",
        "1. Memory Management\n",
        "Efficient Memory Usage:\n",
        "\n",
        "NumPy arrays are homogeneous, meaning all elements in an array must have the same data type. This allows NumPy to store data in a contiguous block of memory, leading to efficient memory usage and faster access times.\n",
        "For example, an array of int8 (8-bit integers) takes significantly less memory than an array of int64 (64-bit integers). Choosing the right data type based on the expected range of values is crucial for managing memory in large datasets."
      ],
      "metadata": {
        "id": "M_j7RGlkmeEG"
      }
    },
    {
      "cell_type": "code",
      "source": [
        "arr_int8 = np.array([1, 2, 3, 4], dtype=np.int8)\n",
        "arr_int64 = np.array([1, 2, 3, 4], dtype=np.int64)\n",
        "print(arr_int8.nbytes)\n",
        "print(arr_int64.nbytes)\n"
      ],
      "metadata": {
        "colab": {
          "base_uri": "https://localhost:8080/"
        },
        "id": "YytX4J5LmxtW",
        "outputId": "bae94019-0e02-4976-a5d4-392acbbc8b7f"
      },
      "execution_count": 4,
      "outputs": [
        {
          "output_type": "stream",
          "name": "stdout",
          "text": [
            "4\n",
            "32\n"
          ]
        }
      ]
    },
    {
      "cell_type": "markdown",
      "source": [
        "Memory Overhead:\n",
        "\n",
        "Choosing a data type with unnecessarily large precision can result in wasted memory. For instance, if you know your data consists of small integers, using a 64-bit float would be inefficient and consume more memory than necessary.\n",
        "\n",
        "2. Performance\n",
        "Faster Computation:\n",
        "\n",
        "NumPy operations are heavily optimized for specific data types, allowing for fast computations when working with arrays. When the correct data type is used, NumPy can leverage vectorized operations and low-level libraries (like BLAS and LAPACK) to accelerate performance.\n",
        "\n",
        "Numerical Precision:\n",
        "\n",
        "Data types directly impact the precision and accuracy of numerical computations. For example, using float32 for large datasets may lead to precision loss in very large numbers or small decimal differences. In contrast, float64 provides higher precision but requires more memory and processing power"
      ],
      "metadata": {
        "id": "qNDIf0owm4F-"
      }
    },
    {
      "cell_type": "markdown",
      "source": [
        "5. Define ndarrays in NumPy and explain their key features. How do they differ from standard Python lists?\n",
        "\n",
        "What are ndarrays in NumPy?\n",
        "An ndarray (N-dimensional array) is the central data structure of NumPy. It represents a homogeneous, multidimensional array of fixed-size items. Each element in the array is of the same type, and the number of dimensions (or axes) is known as the array's rank. These arrays allow efficient storage and manipulation of large datasets, and they are highly optimized for performance in numerical computations.\n",
        "\n",
        "Key Features of ndarrays\n",
        "Homogeneity:\n",
        "\n",
        "All elements in a NumPy ndarray must be of the same data type (e.g., all integers, floats, etc.). This allows for better memory management and faster operations compared to Python lists, which can store elements of different types.\n",
        "Fixed Size:\n",
        "\n",
        "Once created, the size (number of elements) of an ndarray is fixed. You can’t change its size after the array is created, although you can reshape it (change its structure without changing the total number of elements).\n",
        "Multidimensional:\n",
        "\n",
        "An ndarray can have multiple dimensions (2D, 3D, etc.), unlike Python lists, which are primarily 1D but can be nested to simulate multidimensionality. In NumPy, you can efficiently work with arrays of any dimension.\n",
        "Efficient Memory Management:\n",
        "\n",
        "ndarrays are stored in a contiguous block of memory, which allows for fast access and better cache utilization. This is much more efficient than Python lists, where elements can be scattered across different memory locations.\n",
        "\n"
      ],
      "metadata": {
        "id": "dcNLheuonI12"
      }
    },
    {
      "cell_type": "code",
      "source": [
        "import numpy as np\n",
        "arr = np.array([1, 2, 3, 4])\n",
        "result = arr * 2\n"
      ],
      "metadata": {
        "id": "g3e7jmqvniFt"
      },
      "execution_count": 5,
      "outputs": []
    },
    {
      "cell_type": "markdown",
      "source": [
        "Broadcasting:\n",
        "\n",
        "Broadcasting allows NumPy to perform operations on arrays of different shapes by automatically expanding the smaller array along the appropriate dimension. This makes many mathematical operations more flexible and efficient.\n",
        "Slicing and Indexing:\n",
        "\n",
        "ndarrays support advanced slicing and indexing, including multi-dimensional slicing and boolean indexing, which makes accessing specific parts of the array efficient."
      ],
      "metadata": {
        "id": "FykwTCegnq_n"
      }
    },
    {
      "cell_type": "markdown",
      "source": [
        "How ndarrays Differ from Python Lists\n",
        "Feature\tndarrays (NumPy Arrays)\tPython Lists\n",
        "Homogeneity\tElements must be of the same type\tCan store elements of different data types\n",
        "Fixed Size\tSize is fixed; cannot append or remove elements\tDynamic size; can append, remove, or modify\n",
        "Memory Storage\tStored in contiguous blocks of memory (compact)\tElements can be scattered in memory\n",
        "Performance\tFaster due to vectorized operations and low-level optimizations\tSlower, especially for large datasets or loops\n",
        "Broadcasting\tSupports broadcasting (operations on arrays of different shapes)\tNo support for broadcasting\n",
        "Slicing\tMore powerful slicing and indexing, supports multidimensional\tLimited slicing capabilities, no multi-dimensional slicing"
      ],
      "metadata": {
        "id": "gx0bek1Tnsc-"
      }
    },
    {
      "cell_type": "markdown",
      "source": [
        "6. Analyze the performance benefits of NumPy arrays over Python lists for large-scale numerical operations.\n",
        "\n",
        " Memory Efficiency\n",
        "Homogeneous Data:\n",
        "NumPy arrays store elements of a single data type, allowing them to be more compact and efficient in memory compared to Python lists, which can store elements of different types. This homogeneity allows NumPy arrays to be stored in contiguous blocks of memory.\n",
        "Fixed Size:\n",
        "NumPy arrays have a fixed size, which reduces overhead because memory is allocated once when the array is created. In contrast, Python lists are dynamic and need to resize their underlying data structure as elements are added, which involves costly memory reallocation.\n"
      ],
      "metadata": {
        "id": "gpK8p_zdoM0G"
      }
    },
    {
      "cell_type": "code",
      "source": [
        "import numpy as np\n",
        "import sys\n",
        "\n",
        "# Create a NumPy array and a Python list\n",
        "arr = np.arange(1000)\n",
        "lst = list(range(1000))\n",
        "\n",
        "# Memory usage comparison\n",
        "print(arr.nbytes)  # NumPy array memory: 8000 bytes\n",
        "print(sys.getsizeof(lst))  # Python list memory: ~9000+ bytes (depends on system)\n"
      ],
      "metadata": {
        "colab": {
          "base_uri": "https://localhost:8080/"
        },
        "id": "MYlnAiTiorUl",
        "outputId": "fecfa88a-7f9e-4249-d21c-101af267fdb5"
      },
      "execution_count": 6,
      "outputs": [
        {
          "output_type": "stream",
          "name": "stdout",
          "text": [
            "8000\n",
            "8056\n"
          ]
        }
      ]
    },
    {
      "cell_type": "markdown",
      "source": [
        "Vectorized Operations (No Loops Needed)\n",
        "NumPy provides vectorized operations, meaning operations are performed element-wise across entire arrays without the need for explicit loops. This is a key feature of NumPy that contributes to its high performance."
      ],
      "metadata": {
        "id": "ibGmNqEgovYl"
      }
    },
    {
      "cell_type": "code",
      "source": [
        "import numpy as np\n",
        "import time\n",
        "\n",
        "# Create a large array\n",
        "arr = np.arange(1000000)\n",
        "lst = list(range(1000000))\n",
        "\n",
        "# NumPy array multiplication (vectorized)\n",
        "start_time = time.time()\n",
        "arr_result = arr * 2\n",
        "print(\"NumPy time:\", time.time() - start_time)  # Very fast\n",
        "\n",
        "# Python list multiplication (with a loop)\n",
        "start_time = time.time()\n",
        "lst_result = [x * 2 for x in lst]\n",
        "print(\"List time:\", time.time() - start_time)  # Much slower\n"
      ],
      "metadata": {
        "colab": {
          "base_uri": "https://localhost:8080/"
        },
        "id": "BQlu-zvioxgG",
        "outputId": "806d4b2e-1657-4180-bd49-6d2d53c9aef8"
      },
      "execution_count": 7,
      "outputs": [
        {
          "output_type": "stream",
          "name": "stdout",
          "text": [
            "NumPy time: 0.005982875823974609\n",
            "List time: 0.0834798812866211\n"
          ]
        }
      ]
    },
    {
      "cell_type": "markdown",
      "source": [
        "3. Low-level Optimization and Use of C/Fortran Libraries\n",
        "Low-level implementation: NumPy is implemented in C and Fortran, which are compiled languages known for their speed. When operations are performed on NumPy arrays, they call these underlying libraries, bypassing the overhead of Python’s interpreted execution.\n",
        "BLAS and LAPACK integration: NumPy uses highly optimized libraries like BLAS (Basic Linear Algebra Subprograms) and LAPACK (Linear Algebra Package) for numerical computations, further enhancing performance in tasks like matrix operations, linear algebra, and FFTs."
      ],
      "metadata": {
        "id": "vSGP9tf7o2d2"
      }
    },
    {
      "cell_type": "markdown",
      "source": [
        "5. Broadcasting for Efficient Computation\n",
        "Broadcasting: NumPy’s broadcasting mechanism allows arrays of different shapes to be combined in element-wise operations without creating copies or using loops. This leads to both memory and computational efficiency.\n",
        "\n",
        " **Performance Benefits:**\n",
        "Memory Efficiency: NumPy arrays are more memory-efficient than Python lists due to homogeneous data and fixed sizes.\n",
        "Vectorized Operations: NumPy allows for fast, vectorized operations without the need for explicit loops.\n",
        "Low-level Optimizations: NumPy uses optimized C, BLAS, and LAPACK libraries, enabling high-speed computations.\n",
        "Contiguous Memory and Cache Optimization: NumPy arrays use contiguous memory blocks, improving cache performance.\n",
        "Broadcasting: Efficient handling of arrays with different shapes, reducing the need for complex loops.\n",
        "Slicing and In-place Operations: Fast slicing and in-place operations, minimizing memory and performance overhead."
      ],
      "metadata": {
        "id": "qXAbq9dlo7Rd"
      }
    },
    {
      "cell_type": "markdown",
      "source": [
        "7. Compare vstack() and hstack() functions in NumPy. Provide examples demonstrating their usage and\n",
        "output.\n",
        "\n",
        " np.vstack() (Vertical Stack)\n",
        "Purpose: Stacks arrays vertically (row-wise).\n",
        "Axis of Concatenation: It stacks arrays along the first axis (axis=0).\n",
        "Shape Requirements: The input arrays must have the same number of columns (or same shape along the second axis)."
      ],
      "metadata": {
        "id": "j8z03Cl6pRD4"
      }
    },
    {
      "cell_type": "code",
      "source": [
        "import numpy as np\n",
        "\n",
        "# Two 1D arrays\n",
        "arr1 = np.array([1, 2, 3])\n",
        "arr2 = np.array([4, 5, 6])\n",
        "\n",
        "# Vertical stacking\n",
        "result_vstack = np.vstack((arr1, arr2))\n",
        "print(result_vstack)\n"
      ],
      "metadata": {
        "colab": {
          "base_uri": "https://localhost:8080/"
        },
        "id": "_mzbBZxLpwpf",
        "outputId": "1f3d34d3-3868-43b5-c4b8-5671b99765f8"
      },
      "execution_count": 8,
      "outputs": [
        {
          "output_type": "stream",
          "name": "stdout",
          "text": [
            "[[1 2 3]\n",
            " [4 5 6]]\n"
          ]
        }
      ]
    },
    {
      "cell_type": "markdown",
      "source": [
        "2. np.hstack() (Horizontal Stack)\n",
        "Purpose: Stacks arrays horizontally (column-wise).\n",
        "Axis of Concatenation: It stacks arrays along the second axis (axis=1).\n",
        "Shape Requirements: The input arrays must have the same number of rows (or same shape along the first axis)."
      ],
      "metadata": {
        "id": "4Fo79bJfp1lu"
      }
    },
    {
      "cell_type": "code",
      "source": [
        "\n",
        "# Two 1D arrays\n",
        "arr1 = np.array([1, 2, 3])\n",
        "arr2 = np.array([4, 5, 6])\n",
        "\n",
        "# Horizontal stacking\n",
        "result_hstack = np.hstack((arr1, arr2))\n",
        "print(result_hstack)\n"
      ],
      "metadata": {
        "colab": {
          "base_uri": "https://localhost:8080/"
        },
        "id": "mkP2XhEDp3sW",
        "outputId": "a398ae9d-41e3-42d8-bba0-686c09dbe62b"
      },
      "execution_count": 9,
      "outputs": [
        {
          "output_type": "stream",
          "name": "stdout",
          "text": [
            "[1 2 3 4 5 6]\n"
          ]
        }
      ]
    },
    {
      "cell_type": "markdown",
      "source": [
        "Usage and Outputs:-\n",
        "vstack() is used when you want to stack arrays vertically, increasing the number of rows in the resulting array.\n",
        "hstack() is used when you want to stack arrays horizontally, increasing the number of columns in the resulting array."
      ],
      "metadata": {
        "id": "RkUeDuG0qAme"
      }
    },
    {
      "cell_type": "markdown",
      "source": [
        "8. Explain the differences between fliplr() and flipud() methods in NumPy, including their effects on various\n",
        "array dimensions.\n",
        "\n",
        "\n",
        "1. np.fliplr() (Flip Left to Right)\n",
        "Purpose: fliplr() reverses the columns of a 2D array, effectively flipping it horizontally (left to right).\n",
        "Dimensional Requirement: The input array must be at least 2D. It flips along the second axis (axis=1).\n",
        "Effect: The elements in each row are reversed, while the rows themselves remain in the same order."
      ],
      "metadata": {
        "id": "enyzxTP_qBtv"
      }
    },
    {
      "cell_type": "code",
      "source": [
        "import numpy as np\n",
        "\n",
        "arr_2d = np.array([[1, 2, 3],\n",
        "                   [4, 5, 6],\n",
        "                   [7, 8, 9]])\n",
        "\n",
        "# Flip the array left to right (horizontally)\n",
        "result_fliplr = np.fliplr(arr_2d)\n",
        "print(result_fliplr)\n"
      ],
      "metadata": {
        "colab": {
          "base_uri": "https://localhost:8080/"
        },
        "id": "45JOORyRqXLG",
        "outputId": "b719ae6b-843c-4c76-ffd9-d2563bf05ba6"
      },
      "execution_count": 10,
      "outputs": [
        {
          "output_type": "stream",
          "name": "stdout",
          "text": [
            "[[3 2 1]\n",
            " [6 5 4]\n",
            " [9 8 7]]\n"
          ]
        }
      ]
    },
    {
      "cell_type": "markdown",
      "source": [
        "2. np.flipud() (Flip Up to Down)\n",
        "Purpose: flipud() reverses the rows of a 2D array, effectively flipping it vertically (up to down).\n",
        "Dimensional Requirement: flipud() works on arrays of any dimension (1D, 2D, etc.). It flips along the first axis (axis=0).\n",
        "Effect: The rows of the array are reversed, while the columns remain in the same order."
      ],
      "metadata": {
        "id": "8drkfsLSqbUv"
      }
    },
    {
      "cell_type": "code",
      "source": [
        "arr_2d = np.array([[1, 2, 3],\n",
        "                   [4, 5, 6],\n",
        "                   [7, 8, 9]])\n",
        "\n",
        "# Flip the array up to down (vertically)\n",
        "result_flipud = np.flipud(arr_2d)\n",
        "print(result_flipud)\n"
      ],
      "metadata": {
        "colab": {
          "base_uri": "https://localhost:8080/"
        },
        "id": "_wUCs-f0qdm2",
        "outputId": "faf5af78-6c62-4c43-87f2-09f7e25f4fda"
      },
      "execution_count": 11,
      "outputs": [
        {
          "output_type": "stream",
          "name": "stdout",
          "text": [
            "[[7 8 9]\n",
            " [4 5 6]\n",
            " [1 2 3]]\n"
          ]
        }
      ]
    },
    {
      "cell_type": "markdown",
      "source": [
        "ffects on Higher-Dimensional Arrays\n",
        "For arrays with more than 2 dimensions, both fliplr() and flipud() work on specific axes.\n",
        "\n",
        "fliplr(): Works on the second axis (axis=1), so it will reverse the columns of 2D slices along other dimensions.\n",
        "flipud(): Works on the first axis (axis=0), so it will reverse the rows of 2D slices along other dimensions."
      ],
      "metadata": {
        "id": "4jrjT894qqqu"
      }
    },
    {
      "cell_type": "markdown",
      "source": [
        "9. Discuss the functionality of the array_split() method in NumPy. How does it handle uneven splits?\n",
        "\n",
        "The array_split() method in NumPy is used to split an array into multiple sub-arrays. Unlike the split() method, which requires the input array to be evenly divisible by the number of splits, array_split() can handle uneven splits, making it more flexible\n",
        "\n",
        "Key Features of array_split():\n",
        "Input Array: It works with arrays of any dimensionality (1D, 2D, 3D, etc.).\n",
        "Number of Splits: You can specify the number of sub-arrays you want to create.\n",
        "\n",
        "Handling Uneven Splits:\n",
        "When the number of elements in the array is not evenly divisible by the number of splits, array_split() distributes the extra elements to the earlier sub-arrays. The sub-arrays are created such that their sizes differ by at most 1 element."
      ],
      "metadata": {
        "id": "MLJUiwRxqxd3"
      }
    },
    {
      "cell_type": "markdown",
      "source": [
        "10. Explain the concepts of vectorization and broadcasting in NumPy. How do they contribute to efficient array\n",
        "operations?\n",
        "\n",
        "  1. Vectorization:\n",
        "Definition: Vectorization in NumPy refers to the process of applying operations directly to entire arrays (or vectors) without using explicit Python loops. Instead of iterating over individual elements one-by-one, NumPy allows element-wise operations to be performed on the entire array simultaneously.\n",
        "Why It’s Efficient: NumPy operations are implemented in C, which means they bypass the performance limitations of Python loops."
      ],
      "metadata": {
        "id": "t6zLPaJtrbsm"
      }
    },
    {
      "cell_type": "code",
      "source": [
        "import numpy as np\n",
        "\n",
        "# Two arrays\n",
        "arr1 = np.array([1, 2, 3, 4])\n",
        "arr2 = np.array([5, 6, 7, 8])\n",
        "\n",
        "# Vectorized addition (element-wise)\n",
        "result = arr1 + arr2\n",
        "print(result)\n"
      ],
      "metadata": {
        "colab": {
          "base_uri": "https://localhost:8080/"
        },
        "id": "gCIDH_girn9O",
        "outputId": "deb7ed40-0fd7-4b9d-c170-681b5bad6f04"
      },
      "execution_count": 12,
      "outputs": [
        {
          "output_type": "stream",
          "name": "stdout",
          "text": [
            "[ 6  8 10 12]\n"
          ]
        }
      ]
    },
    {
      "cell_type": "markdown",
      "source": [
        "Advantages of Vectorization:\n",
        "Performance: Since NumPy performs operations at the lower-level C language, vectorized operations are much faster than pure Python loops.\n",
        "Readability: The code is cleaner and more concise, avoiding complex loops.\n",
        "\n",
        "2. Broadcasting:\n",
        "Definition: Broadcasting is a mechanism in NumPy that allows operations on arrays of different shapes. Instead of requiring arrays to have identical shapes for element-wise operations, NumPy automatically \"broadcasts\" smaller arrays across the larger array so that the shapes match.\n",
        "How It Works: When performing operations on arrays of different shapes, NumPy stretches (or broadcasts) the smaller array along a dimension to match the shape of the larger array, as long as they follow certain broadcasting rules."
      ],
      "metadata": {
        "id": "-PhXdk35ruiv"
      }
    },
    {
      "cell_type": "code",
      "source": [
        "# 1D array (shape = (3,))\n",
        "arr1 = np.array([1, 2, 3])\n",
        "\n",
        "# 2D array (shape = (3, 3))\n",
        "arr2 = np.array([[10, 20, 30],\n",
        "                 [40, 50, 60],\n",
        "                 [70, 80, 90]])\n",
        "\n",
        "# Broadcasting: arr1 is broadcasted to match the shape of arr2\n",
        "result = arr1 + arr2\n",
        "print(result)\n"
      ],
      "metadata": {
        "colab": {
          "base_uri": "https://localhost:8080/"
        },
        "id": "Keyk1-fpr0R_",
        "outputId": "dfe6d401-8033-48b5-9b17-a25d97744987"
      },
      "execution_count": 13,
      "outputs": [
        {
          "output_type": "stream",
          "name": "stdout",
          "text": [
            "[[11 22 33]\n",
            " [41 52 63]\n",
            " [71 82 93]]\n"
          ]
        }
      ]
    },
    {
      "cell_type": "markdown",
      "source": [
        "**Practical Questions:-**"
      ],
      "metadata": {
        "id": "OE1oEptksIUX"
      }
    },
    {
      "cell_type": "markdown",
      "source": [
        "1. Create a 3x3 NumPy array with random integers between 1 and 100. Then, interchange its rows and columns\n",
        "\n",
        "Original Array:"
      ],
      "metadata": {
        "id": "LsMHYY-IsS8H"
      }
    },
    {
      "cell_type": "code",
      "source": [
        "[[30, 45, 80],\n",
        " [33, 16, 85],\n",
        " [88, 37,  7]]\n"
      ],
      "metadata": {
        "colab": {
          "base_uri": "https://localhost:8080/"
        },
        "id": "AUa7bWhmsg9m",
        "outputId": "ae3bd7ee-7f5f-4477-94f3-da18687efbee"
      },
      "execution_count": 14,
      "outputs": [
        {
          "output_type": "execute_result",
          "data": {
            "text/plain": [
              "[[30, 45, 80], [33, 16, 85], [88, 37, 7]]"
            ]
          },
          "metadata": {},
          "execution_count": 14
        }
      ]
    },
    {
      "cell_type": "markdown",
      "source": [
        "Transposed Array (interchanged rows and columns):\n"
      ],
      "metadata": {
        "id": "p2VsaIoI4toO"
      }
    },
    {
      "cell_type": "code",
      "source": [
        "[[30, 33, 88],\n",
        " [45, 16, 37],\n",
        " [80, 85,  7]]\n"
      ],
      "metadata": {
        "colab": {
          "base_uri": "https://localhost:8080/"
        },
        "id": "1Oyepauaspod",
        "outputId": "e9f8dedc-71e3-4c3e-d23d-4aba04057f8d"
      },
      "execution_count": 15,
      "outputs": [
        {
          "output_type": "execute_result",
          "data": {
            "text/plain": [
              "[[30, 33, 88], [45, 16, 37], [80, 85, 7]]"
            ]
          },
          "metadata": {},
          "execution_count": 15
        }
      ]
    },
    {
      "cell_type": "markdown",
      "source": [
        "2. Generate a 1D NumPy array with 10 elements. Reshape it into a 2x5 array, then into a 5x2 array\n",
        "\n",
        "1D Array with 10 Elements:"
      ],
      "metadata": {
        "id": "427jcy_IsxZu"
      }
    },
    {
      "cell_type": "code",
      "source": [
        "[0, 1, 2, 3, 4, 5, 6, 7, 8, 9]\n"
      ],
      "metadata": {
        "colab": {
          "base_uri": "https://localhost:8080/"
        },
        "id": "g53DZ0ojs3Ku",
        "outputId": "e7511483-ce88-49c0-8333-1497caedf179"
      },
      "execution_count": 16,
      "outputs": [
        {
          "output_type": "execute_result",
          "data": {
            "text/plain": [
              "[0, 1, 2, 3, 4, 5, 6, 7, 8, 9]"
            ]
          },
          "metadata": {},
          "execution_count": 16
        }
      ]
    },
    {
      "cell_type": "markdown",
      "source": [
        "Reshaped into a 2x5 Array:"
      ],
      "metadata": {
        "id": "SLpK9Zvcs6Hm"
      }
    },
    {
      "cell_type": "code",
      "source": [
        "[[0, 1, 2, 3, 4],\n",
        " [5, 6, 7, 8, 9]]\n"
      ],
      "metadata": {
        "colab": {
          "base_uri": "https://localhost:8080/"
        },
        "id": "M73NT0Ums8To",
        "outputId": "60153cc3-b654-4c11-bcae-1215d2476c0d"
      },
      "execution_count": 17,
      "outputs": [
        {
          "output_type": "execute_result",
          "data": {
            "text/plain": [
              "[[0, 1, 2, 3, 4], [5, 6, 7, 8, 9]]"
            ]
          },
          "metadata": {},
          "execution_count": 17
        }
      ]
    },
    {
      "cell_type": "markdown",
      "source": [
        "Reshaped into a 5x2 Array:"
      ],
      "metadata": {
        "id": "otOVdaGVs_Qg"
      }
    },
    {
      "cell_type": "code",
      "source": [
        "[[0, 1],\n",
        " [2, 3],\n",
        " [4, 5],\n",
        " [6, 7],\n",
        " [8, 9]]\n"
      ],
      "metadata": {
        "colab": {
          "base_uri": "https://localhost:8080/"
        },
        "id": "15cRogmKtAOg",
        "outputId": "73b9b8d1-fe0e-46c2-d412-f7998d925518"
      },
      "execution_count": 18,
      "outputs": [
        {
          "output_type": "execute_result",
          "data": {
            "text/plain": [
              "[[0, 1], [2, 3], [4, 5], [6, 7], [8, 9]]"
            ]
          },
          "metadata": {},
          "execution_count": 18
        }
      ]
    },
    {
      "cell_type": "markdown",
      "source": [
        "3. Create a 4x4 NumPy array with random float values. Add a border of zeros around it, resulting in a 6x6 array\n",
        "\n",
        "Original 4x4 Array with Random Float Values:"
      ],
      "metadata": {
        "id": "Qw77PddrtJFP"
      }
    },
    {
      "cell_type": "code",
      "source": [
        "[[0.45019771, 0.06513664, 0.43593494, 0.18466341],\n",
        " [0.71035214, 0.11158375, 0.08370162, 0.73847482],\n",
        " [0.1910837 , 0.23649843, 0.8990661 , 0.18542275],\n",
        " [0.26288612, 0.1938778 , 0.2201624 , 0.58399517]]\n"
      ],
      "metadata": {
        "colab": {
          "base_uri": "https://localhost:8080/"
        },
        "id": "SHnoS6i2tT0N",
        "outputId": "c74db01c-19c1-4374-e93e-5e894a83ab1d"
      },
      "execution_count": 19,
      "outputs": [
        {
          "output_type": "execute_result",
          "data": {
            "text/plain": [
              "[[0.45019771, 0.06513664, 0.43593494, 0.18466341],\n",
              " [0.71035214, 0.11158375, 0.08370162, 0.73847482],\n",
              " [0.1910837, 0.23649843, 0.8990661, 0.18542275],\n",
              " [0.26288612, 0.1938778, 0.2201624, 0.58399517]]"
            ]
          },
          "metadata": {},
          "execution_count": 19
        }
      ]
    },
    {
      "cell_type": "markdown",
      "source": [
        "6x6 Array with a Border of Zeros:"
      ],
      "metadata": {
        "id": "P6HMVZYptcVf"
      }
    },
    {
      "cell_type": "code",
      "source": [
        "[[0.        , 0.        , 0.        , 0.        , 0.        , 0.        ],\n",
        " [0.        , 0.45019771, 0.06513664, 0.43593494, 0.18466341, 0.        ],\n",
        " [0.        , 0.71035214, 0.11158375, 0.08370162, 0.73847482, 0.        ],\n",
        " [0.        , 0.1910837 , 0.23649843, 0.8990661 , 0.18542275, 0.        ],\n",
        " [0.        , 0.26288612, 0.1938778 , 0.2201624 , 0.58399517, 0.        ],\n",
        " [0.        , 0.        , 0.        , 0.        , 0.        , 0.        ]]\n"
      ],
      "metadata": {
        "colab": {
          "base_uri": "https://localhost:8080/"
        },
        "id": "Sv3d0Y9otdrG",
        "outputId": "52ed0e18-917a-43c2-aa65-ed0634839fcb"
      },
      "execution_count": 21,
      "outputs": [
        {
          "output_type": "execute_result",
          "data": {
            "text/plain": [
              "[[0.0, 0.0, 0.0, 0.0, 0.0, 0.0],\n",
              " [0.0, 0.45019771, 0.06513664, 0.43593494, 0.18466341, 0.0],\n",
              " [0.0, 0.71035214, 0.11158375, 0.08370162, 0.73847482, 0.0],\n",
              " [0.0, 0.1910837, 0.23649843, 0.8990661, 0.18542275, 0.0],\n",
              " [0.0, 0.26288612, 0.1938778, 0.2201624, 0.58399517, 0.0],\n",
              " [0.0, 0.0, 0.0, 0.0, 0.0, 0.0]]"
            ]
          },
          "metadata": {},
          "execution_count": 21
        }
      ]
    },
    {
      "cell_type": "markdown",
      "source": [
        "4. Using NumPy, create an array of integers from 10 to 60 with a step of 5."
      ],
      "metadata": {
        "id": "qXgfbA6etl9u"
      }
    },
    {
      "cell_type": "code",
      "source": [
        "import numpy as np\n",
        "\n",
        "# Create the array\n",
        "array = np.arange(10, 61, 5)\n",
        "print(array)\n"
      ],
      "metadata": {
        "colab": {
          "base_uri": "https://localhost:8080/"
        },
        "id": "rmvPVlg-txIe",
        "outputId": "80376a09-8fea-40ce-fbb8-f586fc50ebda"
      },
      "execution_count": 22,
      "outputs": [
        {
          "output_type": "stream",
          "name": "stdout",
          "text": [
            "[10 15 20 25 30 35 40 45 50 55 60]\n"
          ]
        }
      ]
    },
    {
      "cell_type": "markdown",
      "source": [
        "5. Create a NumPy array of strings ['python', 'numpy', 'pandas']. Apply different case transformations\n",
        "(uppercase, lowercase, title case, etc.) to each element."
      ],
      "metadata": {
        "id": "q7VYTfaRt6r2"
      }
    },
    {
      "cell_type": "code",
      "source": [
        "import numpy as np\n",
        "\n",
        "# Create the array of strings\n",
        "string_array = np.array(['python', 'numpy', 'pandas'])\n",
        "\n",
        "# Apply different case transformations\n",
        "uppercase_array = np.char.upper(string_array)\n",
        "lowercase_array = np.char.lower(string_array)\n",
        "titlecase_array = np.char.title(string_array)\n",
        "capitalize_array = np.char.capitalize(string_array)\n",
        "\n",
        "# Print the results\n",
        "print(\"Original array:\", string_array)\n",
        "print(\"Uppercase:\", uppercase_array)\n",
        "print(\"Lowercase:\", lowercase_array)\n",
        "print(\"Title Case:\", titlecase_array)\n",
        "print(\"Capitalize:\", capitalize_array)\n"
      ],
      "metadata": {
        "colab": {
          "base_uri": "https://localhost:8080/"
        },
        "id": "MLEX5XzJuAtF",
        "outputId": "15ead74e-fdf3-4fa6-90f6-a6a8b90da2bf"
      },
      "execution_count": 23,
      "outputs": [
        {
          "output_type": "stream",
          "name": "stdout",
          "text": [
            "Original array: ['python' 'numpy' 'pandas']\n",
            "Uppercase: ['PYTHON' 'NUMPY' 'PANDAS']\n",
            "Lowercase: ['python' 'numpy' 'pandas']\n",
            "Title Case: ['Python' 'Numpy' 'Pandas']\n",
            "Capitalize: ['Python' 'Numpy' 'Pandas']\n"
          ]
        }
      ]
    },
    {
      "cell_type": "markdown",
      "source": [
        "6. Generate a NumPy array of words. Insert a space between each character of every word in the array.\n"
      ],
      "metadata": {
        "id": "UYW7CcFguei3"
      }
    },
    {
      "cell_type": "code",
      "source": [
        "import numpy as np\n",
        "\n",
        "# Create an array of words\n",
        "words_array = np.array(['hello', 'world', 'numpy', 'python'])\n",
        "\n",
        "# Insert a space between each character\n",
        "spaced_array = np.char.join(' ', words_array)\n",
        "\n",
        "# Print the results\n",
        "print(\"Original array:\", words_array)\n",
        "print(\"Spaced array:\", spaced_array)\n"
      ],
      "metadata": {
        "colab": {
          "base_uri": "https://localhost:8080/"
        },
        "id": "V-kur7Y-vcz5",
        "outputId": "f49f20bd-c29c-4773-d920-a4728119ee5d"
      },
      "execution_count": 24,
      "outputs": [
        {
          "output_type": "stream",
          "name": "stdout",
          "text": [
            "Original array: ['hello' 'world' 'numpy' 'python']\n",
            "Spaced array: ['h e l l o' 'w o r l d' 'n u m p y' 'p y t h o n']\n"
          ]
        }
      ]
    },
    {
      "cell_type": "markdown",
      "source": [
        "7. Create two 2D NumPy arrays and perform element-wise addition, subtraction, multiplication, and division"
      ],
      "metadata": {
        "id": "UbTXijbCvk1I"
      }
    },
    {
      "cell_type": "code",
      "source": [
        "import numpy as np\n",
        "\n",
        "# Create two 2D NumPy arrays\n",
        "array1 = np.array([[1, 2, 3],\n",
        "                   [4, 5, 6]])\n",
        "\n",
        "array2 = np.array([[7, 8, 9],\n",
        "                   [10, 11, 12]])\n",
        "\n",
        "# Perform element-wise operations\n",
        "addition = array1 + array2\n",
        "subtraction = array1 - array2\n",
        "multiplication = array1 * array2\n",
        "division = array1 / array2\n",
        "\n",
        "# Print the results\n",
        "print(\"Array 1:\\n\", array1)\n",
        "print(\"Array 2:\\n\", array2)\n",
        "print(\"Addition:\\n\", addition)\n",
        "print(\"Subtraction:\\n\", subtraction)\n",
        "print(\"Multiplication:\\n\", multiplication)\n",
        "print(\"Division:\\n\", division)\n"
      ],
      "metadata": {
        "colab": {
          "base_uri": "https://localhost:8080/"
        },
        "id": "F7HFn2JlvmIv",
        "outputId": "4c33feda-e518-4b04-d808-1432fa894f47"
      },
      "execution_count": 25,
      "outputs": [
        {
          "output_type": "stream",
          "name": "stdout",
          "text": [
            "Array 1:\n",
            " [[1 2 3]\n",
            " [4 5 6]]\n",
            "Array 2:\n",
            " [[ 7  8  9]\n",
            " [10 11 12]]\n",
            "Addition:\n",
            " [[ 8 10 12]\n",
            " [14 16 18]]\n",
            "Subtraction:\n",
            " [[-6 -6 -6]\n",
            " [-6 -6 -6]]\n",
            "Multiplication:\n",
            " [[ 7 16 27]\n",
            " [40 55 72]]\n",
            "Division:\n",
            " [[0.14285714 0.25       0.33333333]\n",
            " [0.4        0.45454545 0.5       ]]\n"
          ]
        }
      ]
    },
    {
      "cell_type": "markdown",
      "source": [
        "8. Use NumPy to create a 5x5 identity matrix, then extract its diagonal elements."
      ],
      "metadata": {
        "id": "RH-KVb3tvyNw"
      }
    },
    {
      "cell_type": "code",
      "source": [
        "import numpy as np\n",
        "\n",
        "# Create a 5x5 identity matrix\n",
        "identity_matrix = np.eye(5)\n",
        "\n",
        "# Extract the diagonal elements\n",
        "diagonal_elements = np.diag(identity_matrix)\n",
        "\n",
        "# Print the results\n",
        "print(\"Identity Matrix:\\n\", identity_matrix)\n",
        "print(\"Diagonal Elements:\", diagonal_elements)\n"
      ],
      "metadata": {
        "colab": {
          "base_uri": "https://localhost:8080/"
        },
        "id": "p8aSHaJ0vzNn",
        "outputId": "6ce24223-2d3e-4eab-fb15-c94c00542dc4"
      },
      "execution_count": 26,
      "outputs": [
        {
          "output_type": "stream",
          "name": "stdout",
          "text": [
            "Identity Matrix:\n",
            " [[1. 0. 0. 0. 0.]\n",
            " [0. 1. 0. 0. 0.]\n",
            " [0. 0. 1. 0. 0.]\n",
            " [0. 0. 0. 1. 0.]\n",
            " [0. 0. 0. 0. 1.]]\n",
            "Diagonal Elements: [1. 1. 1. 1. 1.]\n"
          ]
        }
      ]
    },
    {
      "cell_type": "markdown",
      "source": [
        "9. Generate a NumPy array of 100 random integers between 0 and 1000. Find and display all prime numbers in\n",
        "this array.\n"
      ],
      "metadata": {
        "id": "EWX3w-Mwv8KZ"
      }
    },
    {
      "cell_type": "code",
      "source": [
        "import numpy as np\n",
        "\n",
        "# Generate a NumPy array of 100 random integers between 0 and 1000\n",
        "random_integers = np.random.randint(0, 1001, size=100)\n",
        "\n",
        "# Function to check if a number is prime\n",
        "def is_prime(num):\n",
        "    if num <= 1:\n",
        "        return False\n",
        "    for i in range(2, int(num**0.5) + 1):\n",
        "        if num % i == 0:\n",
        "            return False\n",
        "    return True\n",
        "\n",
        "# Find all prime numbers in the array\n",
        "prime_numbers = [num for num in random_integers if is_prime(num)]\n",
        "\n",
        "# Print the results\n",
        "print(\"Random Integers:\", random_integers)\n",
        "print(\"Prime Numbers:\", prime_numbers)\n"
      ],
      "metadata": {
        "colab": {
          "base_uri": "https://localhost:8080/"
        },
        "id": "SLZYPQVVwFpo",
        "outputId": "c456917a-dd6e-4544-8a2a-d38805de6555"
      },
      "execution_count": 27,
      "outputs": [
        {
          "output_type": "stream",
          "name": "stdout",
          "text": [
            "Random Integers: [869  10 119 678 436 999  79 916  13 402 837  51 273 325 215  55 509 110\n",
            " 895 988 875 944 981 298  39  48 645  26 737 758 995 280  27 656 257 156\n",
            " 254 237 229 417 246 291   0 928 164 687 778   4 139  79 417 515 816 538\n",
            " 735 976  15 210 983 531 498 972 602 774 567 270 537  61 594 957 443 989\n",
            " 866 533 129 654 544 908 452 815 765 841 937 602 556 671 788 603   5 944\n",
            " 775 384 456  22 975 362 248  35 198 982]\n",
            "Prime Numbers: [79, 13, 509, 257, 229, 139, 79, 983, 61, 443, 937, 5]\n"
          ]
        }
      ]
    },
    {
      "cell_type": "markdown",
      "source": [
        "10. Create a NumPy array representing daily temperatures for a month. Calculate and display the weekly\n",
        "averages."
      ],
      "metadata": {
        "id": "rWfEdEttwL3Q"
      }
    },
    {
      "cell_type": "code",
      "source": [
        "import numpy as np\n",
        "\n",
        "# Generate random temperatures for 30 days (for example, between -10 and 40 degrees Celsius)\n",
        "daily_temperatures = np.random.randint(-10, 41, size=30)\n",
        "\n",
        "# Reshape the data into a 2D array with 4 rows (weeks) and 7 columns (days)\n",
        "weekly_temperatures = daily_temperatures.reshape(4, 7)\n",
        "\n",
        "# Calculate the weekly averages\n",
        "weekly_averages = np.mean(weekly_temperatures, axis=1)\n",
        "\n",
        "# Print the results\n",
        "print(\"Daily Temperatures for a Month:\\n\", daily_temperatures)\n",
        "print(\"Weekly Temperatures:\\n\", weekly_temperatures)\n",
        "print(\"Weekly Averages:\", weekly_averages)\n"
      ],
      "metadata": {
        "colab": {
          "base_uri": "https://localhost:8080/",
          "height": 211
        },
        "collapsed": true,
        "id": "kj5JCAVuwaoO",
        "outputId": "be3c2428-caf4-47ee-c82f-ce5f87faa2cf"
      },
      "execution_count": 28,
      "outputs": [
        {
          "output_type": "error",
          "ename": "ValueError",
          "evalue": "cannot reshape array of size 30 into shape (4,7)",
          "traceback": [
            "\u001b[0;31m---------------------------------------------------------------------------\u001b[0m",
            "\u001b[0;31mValueError\u001b[0m                                Traceback (most recent call last)",
            "\u001b[0;32m<ipython-input-28-a76f8beaafcc>\u001b[0m in \u001b[0;36m<cell line: 7>\u001b[0;34m()\u001b[0m\n\u001b[1;32m      5\u001b[0m \u001b[0;34m\u001b[0m\u001b[0m\n\u001b[1;32m      6\u001b[0m \u001b[0;31m# Reshape the data into a 2D array with 4 rows (weeks) and 7 columns (days)\u001b[0m\u001b[0;34m\u001b[0m\u001b[0;34m\u001b[0m\u001b[0m\n\u001b[0;32m----> 7\u001b[0;31m \u001b[0mweekly_temperatures\u001b[0m \u001b[0;34m=\u001b[0m \u001b[0mdaily_temperatures\u001b[0m\u001b[0;34m.\u001b[0m\u001b[0mreshape\u001b[0m\u001b[0;34m(\u001b[0m\u001b[0;36m4\u001b[0m\u001b[0;34m,\u001b[0m \u001b[0;36m7\u001b[0m\u001b[0;34m)\u001b[0m\u001b[0;34m\u001b[0m\u001b[0;34m\u001b[0m\u001b[0m\n\u001b[0m\u001b[1;32m      8\u001b[0m \u001b[0;34m\u001b[0m\u001b[0m\n\u001b[1;32m      9\u001b[0m \u001b[0;31m# Calculate the weekly averages\u001b[0m\u001b[0;34m\u001b[0m\u001b[0;34m\u001b[0m\u001b[0m\n",
            "\u001b[0;31mValueError\u001b[0m: cannot reshape array of size 30 into shape (4,7)"
          ]
        }
      ]
    }
  ]
}